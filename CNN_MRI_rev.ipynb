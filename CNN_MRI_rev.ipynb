{
  "nbformat": 4,
  "nbformat_minor": 0,
  "metadata": {
    "colab": {
      "provenance": [],
      "gpuType": "T4"
    },
    "kernelspec": {
      "name": "python3",
      "display_name": "Python 3"
    },
    "language_info": {
      "name": "python"
    },
    "accelerator": "GPU"
  },
  "cells": [
    {
      "cell_type": "code",
      "source": [
        "%%capture\n",
        "!pip install wandb -qU"
      ],
      "metadata": {
        "id": "RY4xIFtNjVBu"
      },
      "execution_count": 1,
      "outputs": []
    },
    {
      "cell_type": "code",
      "source": [
        "# Log in to your W&B account\n",
        "import wandb\n",
        "wandb.login()"
      ],
      "metadata": {
        "colab": {
          "base_uri": "https://localhost:8080/",
          "height": 145
        },
        "id": "6soGSuamjU4f",
        "outputId": "9bf3c663-7045-410c-8d20-3b1a548a18ea"
      },
      "execution_count": 2,
      "outputs": [
        {
          "output_type": "stream",
          "name": "stderr",
          "text": [
            "\u001b[34m\u001b[1mwandb\u001b[0m: Using wandb-core as the SDK backend.  Please refer to https://wandb.me/wandb-core for more information.\n"
          ]
        },
        {
          "output_type": "display_data",
          "data": {
            "text/plain": [
              "<IPython.core.display.Javascript object>"
            ],
            "application/javascript": [
              "\n",
              "        window._wandbApiKey = new Promise((resolve, reject) => {\n",
              "            function loadScript(url) {\n",
              "            return new Promise(function(resolve, reject) {\n",
              "                let newScript = document.createElement(\"script\");\n",
              "                newScript.onerror = reject;\n",
              "                newScript.onload = resolve;\n",
              "                document.body.appendChild(newScript);\n",
              "                newScript.src = url;\n",
              "            });\n",
              "            }\n",
              "            loadScript(\"https://cdn.jsdelivr.net/npm/postmate/build/postmate.min.js\").then(() => {\n",
              "            const iframe = document.createElement('iframe')\n",
              "            iframe.style.cssText = \"width:0;height:0;border:none\"\n",
              "            document.body.appendChild(iframe)\n",
              "            const handshake = new Postmate({\n",
              "                container: iframe,\n",
              "                url: 'https://wandb.ai/authorize'\n",
              "            });\n",
              "            const timeout = setTimeout(() => reject(\"Couldn't auto authenticate\"), 5000)\n",
              "            handshake.then(function(child) {\n",
              "                child.on('authorize', data => {\n",
              "                    clearTimeout(timeout)\n",
              "                    resolve(data)\n",
              "                });\n",
              "            });\n",
              "            })\n",
              "        });\n",
              "    "
            ]
          },
          "metadata": {}
        },
        {
          "output_type": "stream",
          "name": "stderr",
          "text": [
            "\u001b[34m\u001b[1mwandb\u001b[0m: Logging into wandb.ai. (Learn how to deploy a W&B server locally: https://wandb.me/wandb-server)\n",
            "\u001b[34m\u001b[1mwandb\u001b[0m: You can find your API key in your browser here: https://wandb.ai/authorize\n",
            "wandb: Paste an API key from your profile and hit enter, or press ctrl+c to quit:"
          ]
        },
        {
          "name": "stdout",
          "output_type": "stream",
          "text": [
            " ··········\n"
          ]
        },
        {
          "output_type": "stream",
          "name": "stderr",
          "text": [
            "\u001b[34m\u001b[1mwandb\u001b[0m: Appending key for api.wandb.ai to your netrc file: /root/.netrc\n"
          ]
        },
        {
          "output_type": "execute_result",
          "data": {
            "text/plain": [
              "True"
            ]
          },
          "metadata": {},
          "execution_count": 2
        }
      ]
    },
    {
      "cell_type": "code",
      "source": [],
      "metadata": {
        "id": "ye21muPpjUu4"
      },
      "execution_count": 2,
      "outputs": []
    },
    {
      "cell_type": "code",
      "execution_count": 3,
      "metadata": {
        "id": "HVljQJTzfNKf",
        "colab": {
          "base_uri": "https://localhost:8080/"
        },
        "outputId": "84300a23-af83-47ce-c5e6-ded40236afeb"
      },
      "outputs": [
        {
          "output_type": "stream",
          "name": "stdout",
          "text": [
            "Mounted at /content/gdrive\n"
          ]
        }
      ],
      "source": [
        "import os\n",
        "from google.colab import drive\n",
        "\n",
        "if not os.path.exists('/content/gdrive'):\n",
        "  drive.mount('/content/gdrive')"
      ]
    },
    {
      "cell_type": "code",
      "source": [],
      "metadata": {
        "id": "cTFac-Bxy9eH"
      },
      "execution_count": 3,
      "outputs": []
    },
    {
      "cell_type": "code",
      "source": [
        "config  = {\n",
        "    'epochs': 5,\n",
        "    'batch_size': 4,\n",
        "    'num_filter' : [16, 32, 32],\n",
        "    'weight_decay': 0.0005,\n",
        "    'learning_rate': 1e-3,\n",
        "    'seed': 42\n",
        "    }"
      ],
      "metadata": {
        "id": "S9h9UQdVkFt6"
      },
      "execution_count": 4,
      "outputs": []
    },
    {
      "cell_type": "code",
      "source": [
        "wandb.init(project='CNN_MRI', config=config)\n",
        "wandb.run.name = '20241201' ## Run name\n",
        "wandb.run.save()\n",
        "config = wandb.config"
      ],
      "metadata": {
        "colab": {
          "base_uri": "https://localhost:8080/",
          "height": 142
        },
        "id": "LrcQdYkckFrf",
        "outputId": "f86108dc-caac-461d-dd5f-74c5956644d4"
      },
      "execution_count": 5,
      "outputs": [
        {
          "output_type": "stream",
          "name": "stderr",
          "text": [
            "\u001b[34m\u001b[1mwandb\u001b[0m: Currently logged in as: \u001b[33mdlsgml107\u001b[0m (\u001b[33mdlsgml107-spidercore\u001b[0m). Use \u001b[1m`wandb login --relogin`\u001b[0m to force relogin\n"
          ]
        },
        {
          "output_type": "display_data",
          "data": {
            "text/plain": [
              "<IPython.core.display.HTML object>"
            ],
            "text/html": [
              "Tracking run with wandb version 0.18.7"
            ]
          },
          "metadata": {}
        },
        {
          "output_type": "display_data",
          "data": {
            "text/plain": [
              "<IPython.core.display.HTML object>"
            ],
            "text/html": [
              "Run data is saved locally in <code>/content/wandb/run-20241201_084436-4q9obf0u</code>"
            ]
          },
          "metadata": {}
        },
        {
          "output_type": "display_data",
          "data": {
            "text/plain": [
              "<IPython.core.display.HTML object>"
            ],
            "text/html": [
              "Syncing run <strong><a href='https://wandb.ai/dlsgml107-spidercore/CNN_MRI/runs/4q9obf0u' target=\"_blank\">morning-sky-7</a></strong> to <a href='https://wandb.ai/dlsgml107-spidercore/CNN_MRI' target=\"_blank\">Weights & Biases</a> (<a href='https://wandb.me/developer-guide' target=\"_blank\">docs</a>)<br/>"
            ]
          },
          "metadata": {}
        },
        {
          "output_type": "display_data",
          "data": {
            "text/plain": [
              "<IPython.core.display.HTML object>"
            ],
            "text/html": [
              " View project at <a href='https://wandb.ai/dlsgml107-spidercore/CNN_MRI' target=\"_blank\">https://wandb.ai/dlsgml107-spidercore/CNN_MRI</a>"
            ]
          },
          "metadata": {}
        },
        {
          "output_type": "display_data",
          "data": {
            "text/plain": [
              "<IPython.core.display.HTML object>"
            ],
            "text/html": [
              " View run at <a href='https://wandb.ai/dlsgml107-spidercore/CNN_MRI/runs/4q9obf0u' target=\"_blank\">https://wandb.ai/dlsgml107-spidercore/CNN_MRI/runs/4q9obf0u</a>"
            ]
          },
          "metadata": {}
        },
        {
          "output_type": "stream",
          "name": "stderr",
          "text": [
            "\u001b[34m\u001b[1mwandb\u001b[0m: \u001b[33mWARNING\u001b[0m Calling wandb.run.save without any arguments is deprecated.Changes to attributes are automatically persisted.\n"
          ]
        }
      ]
    },
    {
      "cell_type": "code",
      "source": [],
      "metadata": {
        "id": "7tNb5jKsmDCa"
      },
      "execution_count": 5,
      "outputs": []
    },
    {
      "cell_type": "code",
      "source": [],
      "metadata": {
        "id": "YZlSngfHmC_T"
      },
      "execution_count": 5,
      "outputs": []
    },
    {
      "cell_type": "code",
      "source": [],
      "metadata": {
        "id": "UujCj1ueEO12"
      },
      "execution_count": 5,
      "outputs": []
    },
    {
      "cell_type": "markdown",
      "source": [
        "# 1. Preprocessing"
      ],
      "metadata": {
        "id": "LqIHnuSpEPRg"
      }
    },
    {
      "cell_type": "markdown",
      "source": [
        "### 데이터 불러오기"
      ],
      "metadata": {
        "id": "KWXlNgxtEUbr"
      }
    },
    {
      "cell_type": "code",
      "source": [
        "import pandas as pd\n",
        "import numpy as np\n",
        "from tqdm import tqdm"
      ],
      "metadata": {
        "id": "CaIhngdIk4p_"
      },
      "execution_count": 6,
      "outputs": []
    },
    {
      "cell_type": "code",
      "source": [
        "df= pd.read_csv('/content/gdrive/MyDrive/Colab Notebooks/SMWU/2024/merge_prep.csv')\n",
        "df"
      ],
      "metadata": {
        "colab": {
          "base_uri": "https://localhost:8080/",
          "height": 443
        },
        "id": "_01ga1g4k4oF",
        "outputId": "24c150ae-1ce5-45b5-f795-10835199652c"
      },
      "execution_count": 7,
      "outputs": [
        {
          "output_type": "execute_result",
          "data": {
            "text/plain": [
              "            PTID  BAT126  HMT10  HMT100  HMT102  HMT11  HMT12  HMT13  HMT15  \\\n",
              "0     002_S_0295   194.0   0.52    31.0    33.0   0.17   0.03  182.0   66.6   \n",
              "1     002_S_0413   433.0   0.23    30.0    33.0   0.18   0.02  155.0   53.5   \n",
              "2     002_S_0559   452.0   0.42    30.0    33.0   0.26   0.03  156.0   71.2   \n",
              "3     002_S_0619   642.0   0.21    33.0    32.0   0.19   0.05  228.0   66.1   \n",
              "4     002_S_0685   322.0   0.39    30.0    33.0   0.19   0.08  357.0   62.8   \n",
              "...          ...     ...    ...     ...     ...    ...    ...    ...    ...   \n",
              "1595  941_S_4376   525.0   0.21    31.0    32.0   0.12   0.09  209.0   54.8   \n",
              "1596  941_S_4377   256.0   0.59    30.0    34.0   0.11   0.04  262.0   51.6   \n",
              "1597  941_S_4420   747.0   0.50    31.0    33.0   0.07   0.02  180.0   60.9   \n",
              "1598  941_S_4764   454.0   0.40    32.0    35.0   0.15   0.05  250.0   55.7   \n",
              "1599  941_S_5124   330.0   0.38    30.0    36.0   0.16   0.05  268.0   51.0   \n",
              "\n",
              "      HMT16  ...  EcogSPVisspat_bl  EcogSPPlan_bl  EcogSPOrgan_bl  \\\n",
              "0      23.2  ...               NaN            NaN             NaN   \n",
              "1      34.5  ...               NaN            NaN             NaN   \n",
              "2      20.0  ...               NaN            NaN             NaN   \n",
              "3      25.6  ...               NaN            NaN             NaN   \n",
              "4      27.4  ...               NaN            NaN             NaN   \n",
              "...     ...  ...               ...            ...             ...   \n",
              "1595   35.3  ...           1.00000            1.0         1.00000   \n",
              "1596   37.2  ...           2.00000            2.2         2.00000   \n",
              "1597   26.4  ...           1.00000            1.0         1.50000   \n",
              "1598   32.7  ...           1.14286            1.4         1.20000   \n",
              "1599   38.0  ...           1.00000            1.0         1.33333   \n",
              "\n",
              "      EcogSPDivatt_bl  EcogSPTotal_bl  ABETA_bl  TAU_bl  PTAU_bl    FDG_bl  \\\n",
              "0                 NaN             NaN     888.1   355.2    34.73       NaN   \n",
              "1                 NaN             NaN    1006.0   107.3    10.57       NaN   \n",
              "2                 NaN             NaN    1245.0   188.6    15.82       NaN   \n",
              "3                 NaN             NaN     393.8   212.4    18.56       NaN   \n",
              "4                 NaN             NaN    1700.0   265.9    22.82       NaN   \n",
              "...               ...             ...       ...     ...      ...       ...   \n",
              "1595              1.0         1.00000    1700.0   277.0    23.97  1.303080   \n",
              "1596              2.5         2.15385    1349.0   312.6    26.47  1.392690   \n",
              "1597              NaN         1.41935     795.0   339.4    32.22  1.229150   \n",
              "1598              1.5         1.23684     912.4   295.5    27.57  1.340120   \n",
              "1599              1.0         1.23077    1700.0   340.9    30.81  0.978655   \n",
              "\n",
              "      AV45_bl  \n",
              "0         NaN  \n",
              "1         NaN  \n",
              "2         NaN  \n",
              "3         NaN  \n",
              "4         NaN  \n",
              "...       ...  \n",
              "1595   0.9419  \n",
              "1596   1.1362  \n",
              "1597   1.3555  \n",
              "1598   1.2638  \n",
              "1599   1.1583  \n",
              "\n",
              "[1600 rows x 81 columns]"
            ],
            "text/html": [
              "\n",
              "  <div id=\"df-9d0a8d2e-1ef0-4962-b67a-c4fcf9d8ae4a\" class=\"colab-df-container\">\n",
              "    <div>\n",
              "<style scoped>\n",
              "    .dataframe tbody tr th:only-of-type {\n",
              "        vertical-align: middle;\n",
              "    }\n",
              "\n",
              "    .dataframe tbody tr th {\n",
              "        vertical-align: top;\n",
              "    }\n",
              "\n",
              "    .dataframe thead th {\n",
              "        text-align: right;\n",
              "    }\n",
              "</style>\n",
              "<table border=\"1\" class=\"dataframe\">\n",
              "  <thead>\n",
              "    <tr style=\"text-align: right;\">\n",
              "      <th></th>\n",
              "      <th>PTID</th>\n",
              "      <th>BAT126</th>\n",
              "      <th>HMT10</th>\n",
              "      <th>HMT100</th>\n",
              "      <th>HMT102</th>\n",
              "      <th>HMT11</th>\n",
              "      <th>HMT12</th>\n",
              "      <th>HMT13</th>\n",
              "      <th>HMT15</th>\n",
              "      <th>HMT16</th>\n",
              "      <th>...</th>\n",
              "      <th>EcogSPVisspat_bl</th>\n",
              "      <th>EcogSPPlan_bl</th>\n",
              "      <th>EcogSPOrgan_bl</th>\n",
              "      <th>EcogSPDivatt_bl</th>\n",
              "      <th>EcogSPTotal_bl</th>\n",
              "      <th>ABETA_bl</th>\n",
              "      <th>TAU_bl</th>\n",
              "      <th>PTAU_bl</th>\n",
              "      <th>FDG_bl</th>\n",
              "      <th>AV45_bl</th>\n",
              "    </tr>\n",
              "  </thead>\n",
              "  <tbody>\n",
              "    <tr>\n",
              "      <th>0</th>\n",
              "      <td>002_S_0295</td>\n",
              "      <td>194.0</td>\n",
              "      <td>0.52</td>\n",
              "      <td>31.0</td>\n",
              "      <td>33.0</td>\n",
              "      <td>0.17</td>\n",
              "      <td>0.03</td>\n",
              "      <td>182.0</td>\n",
              "      <td>66.6</td>\n",
              "      <td>23.2</td>\n",
              "      <td>...</td>\n",
              "      <td>NaN</td>\n",
              "      <td>NaN</td>\n",
              "      <td>NaN</td>\n",
              "      <td>NaN</td>\n",
              "      <td>NaN</td>\n",
              "      <td>888.1</td>\n",
              "      <td>355.2</td>\n",
              "      <td>34.73</td>\n",
              "      <td>NaN</td>\n",
              "      <td>NaN</td>\n",
              "    </tr>\n",
              "    <tr>\n",
              "      <th>1</th>\n",
              "      <td>002_S_0413</td>\n",
              "      <td>433.0</td>\n",
              "      <td>0.23</td>\n",
              "      <td>30.0</td>\n",
              "      <td>33.0</td>\n",
              "      <td>0.18</td>\n",
              "      <td>0.02</td>\n",
              "      <td>155.0</td>\n",
              "      <td>53.5</td>\n",
              "      <td>34.5</td>\n",
              "      <td>...</td>\n",
              "      <td>NaN</td>\n",
              "      <td>NaN</td>\n",
              "      <td>NaN</td>\n",
              "      <td>NaN</td>\n",
              "      <td>NaN</td>\n",
              "      <td>1006.0</td>\n",
              "      <td>107.3</td>\n",
              "      <td>10.57</td>\n",
              "      <td>NaN</td>\n",
              "      <td>NaN</td>\n",
              "    </tr>\n",
              "    <tr>\n",
              "      <th>2</th>\n",
              "      <td>002_S_0559</td>\n",
              "      <td>452.0</td>\n",
              "      <td>0.42</td>\n",
              "      <td>30.0</td>\n",
              "      <td>33.0</td>\n",
              "      <td>0.26</td>\n",
              "      <td>0.03</td>\n",
              "      <td>156.0</td>\n",
              "      <td>71.2</td>\n",
              "      <td>20.0</td>\n",
              "      <td>...</td>\n",
              "      <td>NaN</td>\n",
              "      <td>NaN</td>\n",
              "      <td>NaN</td>\n",
              "      <td>NaN</td>\n",
              "      <td>NaN</td>\n",
              "      <td>1245.0</td>\n",
              "      <td>188.6</td>\n",
              "      <td>15.82</td>\n",
              "      <td>NaN</td>\n",
              "      <td>NaN</td>\n",
              "    </tr>\n",
              "    <tr>\n",
              "      <th>3</th>\n",
              "      <td>002_S_0619</td>\n",
              "      <td>642.0</td>\n",
              "      <td>0.21</td>\n",
              "      <td>33.0</td>\n",
              "      <td>32.0</td>\n",
              "      <td>0.19</td>\n",
              "      <td>0.05</td>\n",
              "      <td>228.0</td>\n",
              "      <td>66.1</td>\n",
              "      <td>25.6</td>\n",
              "      <td>...</td>\n",
              "      <td>NaN</td>\n",
              "      <td>NaN</td>\n",
              "      <td>NaN</td>\n",
              "      <td>NaN</td>\n",
              "      <td>NaN</td>\n",
              "      <td>393.8</td>\n",
              "      <td>212.4</td>\n",
              "      <td>18.56</td>\n",
              "      <td>NaN</td>\n",
              "      <td>NaN</td>\n",
              "    </tr>\n",
              "    <tr>\n",
              "      <th>4</th>\n",
              "      <td>002_S_0685</td>\n",
              "      <td>322.0</td>\n",
              "      <td>0.39</td>\n",
              "      <td>30.0</td>\n",
              "      <td>33.0</td>\n",
              "      <td>0.19</td>\n",
              "      <td>0.08</td>\n",
              "      <td>357.0</td>\n",
              "      <td>62.8</td>\n",
              "      <td>27.4</td>\n",
              "      <td>...</td>\n",
              "      <td>NaN</td>\n",
              "      <td>NaN</td>\n",
              "      <td>NaN</td>\n",
              "      <td>NaN</td>\n",
              "      <td>NaN</td>\n",
              "      <td>1700.0</td>\n",
              "      <td>265.9</td>\n",
              "      <td>22.82</td>\n",
              "      <td>NaN</td>\n",
              "      <td>NaN</td>\n",
              "    </tr>\n",
              "    <tr>\n",
              "      <th>...</th>\n",
              "      <td>...</td>\n",
              "      <td>...</td>\n",
              "      <td>...</td>\n",
              "      <td>...</td>\n",
              "      <td>...</td>\n",
              "      <td>...</td>\n",
              "      <td>...</td>\n",
              "      <td>...</td>\n",
              "      <td>...</td>\n",
              "      <td>...</td>\n",
              "      <td>...</td>\n",
              "      <td>...</td>\n",
              "      <td>...</td>\n",
              "      <td>...</td>\n",
              "      <td>...</td>\n",
              "      <td>...</td>\n",
              "      <td>...</td>\n",
              "      <td>...</td>\n",
              "      <td>...</td>\n",
              "      <td>...</td>\n",
              "      <td>...</td>\n",
              "    </tr>\n",
              "    <tr>\n",
              "      <th>1595</th>\n",
              "      <td>941_S_4376</td>\n",
              "      <td>525.0</td>\n",
              "      <td>0.21</td>\n",
              "      <td>31.0</td>\n",
              "      <td>32.0</td>\n",
              "      <td>0.12</td>\n",
              "      <td>0.09</td>\n",
              "      <td>209.0</td>\n",
              "      <td>54.8</td>\n",
              "      <td>35.3</td>\n",
              "      <td>...</td>\n",
              "      <td>1.00000</td>\n",
              "      <td>1.0</td>\n",
              "      <td>1.00000</td>\n",
              "      <td>1.0</td>\n",
              "      <td>1.00000</td>\n",
              "      <td>1700.0</td>\n",
              "      <td>277.0</td>\n",
              "      <td>23.97</td>\n",
              "      <td>1.303080</td>\n",
              "      <td>0.9419</td>\n",
              "    </tr>\n",
              "    <tr>\n",
              "      <th>1596</th>\n",
              "      <td>941_S_4377</td>\n",
              "      <td>256.0</td>\n",
              "      <td>0.59</td>\n",
              "      <td>30.0</td>\n",
              "      <td>34.0</td>\n",
              "      <td>0.11</td>\n",
              "      <td>0.04</td>\n",
              "      <td>262.0</td>\n",
              "      <td>51.6</td>\n",
              "      <td>37.2</td>\n",
              "      <td>...</td>\n",
              "      <td>2.00000</td>\n",
              "      <td>2.2</td>\n",
              "      <td>2.00000</td>\n",
              "      <td>2.5</td>\n",
              "      <td>2.15385</td>\n",
              "      <td>1349.0</td>\n",
              "      <td>312.6</td>\n",
              "      <td>26.47</td>\n",
              "      <td>1.392690</td>\n",
              "      <td>1.1362</td>\n",
              "    </tr>\n",
              "    <tr>\n",
              "      <th>1597</th>\n",
              "      <td>941_S_4420</td>\n",
              "      <td>747.0</td>\n",
              "      <td>0.50</td>\n",
              "      <td>31.0</td>\n",
              "      <td>33.0</td>\n",
              "      <td>0.07</td>\n",
              "      <td>0.02</td>\n",
              "      <td>180.0</td>\n",
              "      <td>60.9</td>\n",
              "      <td>26.4</td>\n",
              "      <td>...</td>\n",
              "      <td>1.00000</td>\n",
              "      <td>1.0</td>\n",
              "      <td>1.50000</td>\n",
              "      <td>NaN</td>\n",
              "      <td>1.41935</td>\n",
              "      <td>795.0</td>\n",
              "      <td>339.4</td>\n",
              "      <td>32.22</td>\n",
              "      <td>1.229150</td>\n",
              "      <td>1.3555</td>\n",
              "    </tr>\n",
              "    <tr>\n",
              "      <th>1598</th>\n",
              "      <td>941_S_4764</td>\n",
              "      <td>454.0</td>\n",
              "      <td>0.40</td>\n",
              "      <td>32.0</td>\n",
              "      <td>35.0</td>\n",
              "      <td>0.15</td>\n",
              "      <td>0.05</td>\n",
              "      <td>250.0</td>\n",
              "      <td>55.7</td>\n",
              "      <td>32.7</td>\n",
              "      <td>...</td>\n",
              "      <td>1.14286</td>\n",
              "      <td>1.4</td>\n",
              "      <td>1.20000</td>\n",
              "      <td>1.5</td>\n",
              "      <td>1.23684</td>\n",
              "      <td>912.4</td>\n",
              "      <td>295.5</td>\n",
              "      <td>27.57</td>\n",
              "      <td>1.340120</td>\n",
              "      <td>1.2638</td>\n",
              "    </tr>\n",
              "    <tr>\n",
              "      <th>1599</th>\n",
              "      <td>941_S_5124</td>\n",
              "      <td>330.0</td>\n",
              "      <td>0.38</td>\n",
              "      <td>30.0</td>\n",
              "      <td>36.0</td>\n",
              "      <td>0.16</td>\n",
              "      <td>0.05</td>\n",
              "      <td>268.0</td>\n",
              "      <td>51.0</td>\n",
              "      <td>38.0</td>\n",
              "      <td>...</td>\n",
              "      <td>1.00000</td>\n",
              "      <td>1.0</td>\n",
              "      <td>1.33333</td>\n",
              "      <td>1.0</td>\n",
              "      <td>1.23077</td>\n",
              "      <td>1700.0</td>\n",
              "      <td>340.9</td>\n",
              "      <td>30.81</td>\n",
              "      <td>0.978655</td>\n",
              "      <td>1.1583</td>\n",
              "    </tr>\n",
              "  </tbody>\n",
              "</table>\n",
              "<p>1600 rows × 81 columns</p>\n",
              "</div>\n",
              "    <div class=\"colab-df-buttons\">\n",
              "\n",
              "  <div class=\"colab-df-container\">\n",
              "    <button class=\"colab-df-convert\" onclick=\"convertToInteractive('df-9d0a8d2e-1ef0-4962-b67a-c4fcf9d8ae4a')\"\n",
              "            title=\"Convert this dataframe to an interactive table.\"\n",
              "            style=\"display:none;\">\n",
              "\n",
              "  <svg xmlns=\"http://www.w3.org/2000/svg\" height=\"24px\" viewBox=\"0 -960 960 960\">\n",
              "    <path d=\"M120-120v-720h720v720H120Zm60-500h600v-160H180v160Zm220 220h160v-160H400v160Zm0 220h160v-160H400v160ZM180-400h160v-160H180v160Zm440 0h160v-160H620v160ZM180-180h160v-160H180v160Zm440 0h160v-160H620v160Z\"/>\n",
              "  </svg>\n",
              "    </button>\n",
              "\n",
              "  <style>\n",
              "    .colab-df-container {\n",
              "      display:flex;\n",
              "      gap: 12px;\n",
              "    }\n",
              "\n",
              "    .colab-df-convert {\n",
              "      background-color: #E8F0FE;\n",
              "      border: none;\n",
              "      border-radius: 50%;\n",
              "      cursor: pointer;\n",
              "      display: none;\n",
              "      fill: #1967D2;\n",
              "      height: 32px;\n",
              "      padding: 0 0 0 0;\n",
              "      width: 32px;\n",
              "    }\n",
              "\n",
              "    .colab-df-convert:hover {\n",
              "      background-color: #E2EBFA;\n",
              "      box-shadow: 0px 1px 2px rgba(60, 64, 67, 0.3), 0px 1px 3px 1px rgba(60, 64, 67, 0.15);\n",
              "      fill: #174EA6;\n",
              "    }\n",
              "\n",
              "    .colab-df-buttons div {\n",
              "      margin-bottom: 4px;\n",
              "    }\n",
              "\n",
              "    [theme=dark] .colab-df-convert {\n",
              "      background-color: #3B4455;\n",
              "      fill: #D2E3FC;\n",
              "    }\n",
              "\n",
              "    [theme=dark] .colab-df-convert:hover {\n",
              "      background-color: #434B5C;\n",
              "      box-shadow: 0px 1px 3px 1px rgba(0, 0, 0, 0.15);\n",
              "      filter: drop-shadow(0px 1px 2px rgba(0, 0, 0, 0.3));\n",
              "      fill: #FFFFFF;\n",
              "    }\n",
              "  </style>\n",
              "\n",
              "    <script>\n",
              "      const buttonEl =\n",
              "        document.querySelector('#df-9d0a8d2e-1ef0-4962-b67a-c4fcf9d8ae4a button.colab-df-convert');\n",
              "      buttonEl.style.display =\n",
              "        google.colab.kernel.accessAllowed ? 'block' : 'none';\n",
              "\n",
              "      async function convertToInteractive(key) {\n",
              "        const element = document.querySelector('#df-9d0a8d2e-1ef0-4962-b67a-c4fcf9d8ae4a');\n",
              "        const dataTable =\n",
              "          await google.colab.kernel.invokeFunction('convertToInteractive',\n",
              "                                                    [key], {});\n",
              "        if (!dataTable) return;\n",
              "\n",
              "        const docLinkHtml = 'Like what you see? Visit the ' +\n",
              "          '<a target=\"_blank\" href=https://colab.research.google.com/notebooks/data_table.ipynb>data table notebook</a>'\n",
              "          + ' to learn more about interactive tables.';\n",
              "        element.innerHTML = '';\n",
              "        dataTable['output_type'] = 'display_data';\n",
              "        await google.colab.output.renderOutput(dataTable, element);\n",
              "        const docLink = document.createElement('div');\n",
              "        docLink.innerHTML = docLinkHtml;\n",
              "        element.appendChild(docLink);\n",
              "      }\n",
              "    </script>\n",
              "  </div>\n",
              "\n",
              "\n",
              "<div id=\"df-0197b20b-2961-4330-a049-0e036a800cdf\">\n",
              "  <button class=\"colab-df-quickchart\" onclick=\"quickchart('df-0197b20b-2961-4330-a049-0e036a800cdf')\"\n",
              "            title=\"Suggest charts\"\n",
              "            style=\"display:none;\">\n",
              "\n",
              "<svg xmlns=\"http://www.w3.org/2000/svg\" height=\"24px\"viewBox=\"0 0 24 24\"\n",
              "     width=\"24px\">\n",
              "    <g>\n",
              "        <path d=\"M19 3H5c-1.1 0-2 .9-2 2v14c0 1.1.9 2 2 2h14c1.1 0 2-.9 2-2V5c0-1.1-.9-2-2-2zM9 17H7v-7h2v7zm4 0h-2V7h2v10zm4 0h-2v-4h2v4z\"/>\n",
              "    </g>\n",
              "</svg>\n",
              "  </button>\n",
              "\n",
              "<style>\n",
              "  .colab-df-quickchart {\n",
              "      --bg-color: #E8F0FE;\n",
              "      --fill-color: #1967D2;\n",
              "      --hover-bg-color: #E2EBFA;\n",
              "      --hover-fill-color: #174EA6;\n",
              "      --disabled-fill-color: #AAA;\n",
              "      --disabled-bg-color: #DDD;\n",
              "  }\n",
              "\n",
              "  [theme=dark] .colab-df-quickchart {\n",
              "      --bg-color: #3B4455;\n",
              "      --fill-color: #D2E3FC;\n",
              "      --hover-bg-color: #434B5C;\n",
              "      --hover-fill-color: #FFFFFF;\n",
              "      --disabled-bg-color: #3B4455;\n",
              "      --disabled-fill-color: #666;\n",
              "  }\n",
              "\n",
              "  .colab-df-quickchart {\n",
              "    background-color: var(--bg-color);\n",
              "    border: none;\n",
              "    border-radius: 50%;\n",
              "    cursor: pointer;\n",
              "    display: none;\n",
              "    fill: var(--fill-color);\n",
              "    height: 32px;\n",
              "    padding: 0;\n",
              "    width: 32px;\n",
              "  }\n",
              "\n",
              "  .colab-df-quickchart:hover {\n",
              "    background-color: var(--hover-bg-color);\n",
              "    box-shadow: 0 1px 2px rgba(60, 64, 67, 0.3), 0 1px 3px 1px rgba(60, 64, 67, 0.15);\n",
              "    fill: var(--button-hover-fill-color);\n",
              "  }\n",
              "\n",
              "  .colab-df-quickchart-complete:disabled,\n",
              "  .colab-df-quickchart-complete:disabled:hover {\n",
              "    background-color: var(--disabled-bg-color);\n",
              "    fill: var(--disabled-fill-color);\n",
              "    box-shadow: none;\n",
              "  }\n",
              "\n",
              "  .colab-df-spinner {\n",
              "    border: 2px solid var(--fill-color);\n",
              "    border-color: transparent;\n",
              "    border-bottom-color: var(--fill-color);\n",
              "    animation:\n",
              "      spin 1s steps(1) infinite;\n",
              "  }\n",
              "\n",
              "  @keyframes spin {\n",
              "    0% {\n",
              "      border-color: transparent;\n",
              "      border-bottom-color: var(--fill-color);\n",
              "      border-left-color: var(--fill-color);\n",
              "    }\n",
              "    20% {\n",
              "      border-color: transparent;\n",
              "      border-left-color: var(--fill-color);\n",
              "      border-top-color: var(--fill-color);\n",
              "    }\n",
              "    30% {\n",
              "      border-color: transparent;\n",
              "      border-left-color: var(--fill-color);\n",
              "      border-top-color: var(--fill-color);\n",
              "      border-right-color: var(--fill-color);\n",
              "    }\n",
              "    40% {\n",
              "      border-color: transparent;\n",
              "      border-right-color: var(--fill-color);\n",
              "      border-top-color: var(--fill-color);\n",
              "    }\n",
              "    60% {\n",
              "      border-color: transparent;\n",
              "      border-right-color: var(--fill-color);\n",
              "    }\n",
              "    80% {\n",
              "      border-color: transparent;\n",
              "      border-right-color: var(--fill-color);\n",
              "      border-bottom-color: var(--fill-color);\n",
              "    }\n",
              "    90% {\n",
              "      border-color: transparent;\n",
              "      border-bottom-color: var(--fill-color);\n",
              "    }\n",
              "  }\n",
              "</style>\n",
              "\n",
              "  <script>\n",
              "    async function quickchart(key) {\n",
              "      const quickchartButtonEl =\n",
              "        document.querySelector('#' + key + ' button');\n",
              "      quickchartButtonEl.disabled = true;  // To prevent multiple clicks.\n",
              "      quickchartButtonEl.classList.add('colab-df-spinner');\n",
              "      try {\n",
              "        const charts = await google.colab.kernel.invokeFunction(\n",
              "            'suggestCharts', [key], {});\n",
              "      } catch (error) {\n",
              "        console.error('Error during call to suggestCharts:', error);\n",
              "      }\n",
              "      quickchartButtonEl.classList.remove('colab-df-spinner');\n",
              "      quickchartButtonEl.classList.add('colab-df-quickchart-complete');\n",
              "    }\n",
              "    (() => {\n",
              "      let quickchartButtonEl =\n",
              "        document.querySelector('#df-0197b20b-2961-4330-a049-0e036a800cdf button');\n",
              "      quickchartButtonEl.style.display =\n",
              "        google.colab.kernel.accessAllowed ? 'block' : 'none';\n",
              "    })();\n",
              "  </script>\n",
              "</div>\n",
              "\n",
              "  <div id=\"id_1c52e8a6-f24a-4982-8800-55689b2aba5e\">\n",
              "    <style>\n",
              "      .colab-df-generate {\n",
              "        background-color: #E8F0FE;\n",
              "        border: none;\n",
              "        border-radius: 50%;\n",
              "        cursor: pointer;\n",
              "        display: none;\n",
              "        fill: #1967D2;\n",
              "        height: 32px;\n",
              "        padding: 0 0 0 0;\n",
              "        width: 32px;\n",
              "      }\n",
              "\n",
              "      .colab-df-generate:hover {\n",
              "        background-color: #E2EBFA;\n",
              "        box-shadow: 0px 1px 2px rgba(60, 64, 67, 0.3), 0px 1px 3px 1px rgba(60, 64, 67, 0.15);\n",
              "        fill: #174EA6;\n",
              "      }\n",
              "\n",
              "      [theme=dark] .colab-df-generate {\n",
              "        background-color: #3B4455;\n",
              "        fill: #D2E3FC;\n",
              "      }\n",
              "\n",
              "      [theme=dark] .colab-df-generate:hover {\n",
              "        background-color: #434B5C;\n",
              "        box-shadow: 0px 1px 3px 1px rgba(0, 0, 0, 0.15);\n",
              "        filter: drop-shadow(0px 1px 2px rgba(0, 0, 0, 0.3));\n",
              "        fill: #FFFFFF;\n",
              "      }\n",
              "    </style>\n",
              "    <button class=\"colab-df-generate\" onclick=\"generateWithVariable('df')\"\n",
              "            title=\"Generate code using this dataframe.\"\n",
              "            style=\"display:none;\">\n",
              "\n",
              "  <svg xmlns=\"http://www.w3.org/2000/svg\" height=\"24px\"viewBox=\"0 0 24 24\"\n",
              "       width=\"24px\">\n",
              "    <path d=\"M7,19H8.4L18.45,9,17,7.55,7,17.6ZM5,21V16.75L18.45,3.32a2,2,0,0,1,2.83,0l1.4,1.43a1.91,1.91,0,0,1,.58,1.4,1.91,1.91,0,0,1-.58,1.4L9.25,21ZM18.45,9,17,7.55Zm-12,3A5.31,5.31,0,0,0,4.9,8.1,5.31,5.31,0,0,0,1,6.5,5.31,5.31,0,0,0,4.9,4.9,5.31,5.31,0,0,0,6.5,1,5.31,5.31,0,0,0,8.1,4.9,5.31,5.31,0,0,0,12,6.5,5.46,5.46,0,0,0,6.5,12Z\"/>\n",
              "  </svg>\n",
              "    </button>\n",
              "    <script>\n",
              "      (() => {\n",
              "      const buttonEl =\n",
              "        document.querySelector('#id_1c52e8a6-f24a-4982-8800-55689b2aba5e button.colab-df-generate');\n",
              "      buttonEl.style.display =\n",
              "        google.colab.kernel.accessAllowed ? 'block' : 'none';\n",
              "\n",
              "      buttonEl.onclick = () => {\n",
              "        google.colab.notebook.generateWithVariable('df');\n",
              "      }\n",
              "      })();\n",
              "    </script>\n",
              "  </div>\n",
              "\n",
              "    </div>\n",
              "  </div>\n"
            ],
            "application/vnd.google.colaboratory.intrinsic+json": {
              "type": "dataframe",
              "variable_name": "df"
            }
          },
          "metadata": {},
          "execution_count": 7
        }
      ]
    },
    {
      "cell_type": "code",
      "source": [],
      "metadata": {
        "id": "wDTfViHUmq5t"
      },
      "execution_count": 7,
      "outputs": []
    },
    {
      "cell_type": "code",
      "source": [],
      "metadata": {
        "id": "tIGizVE2mq3T"
      },
      "execution_count": 7,
      "outputs": []
    },
    {
      "cell_type": "markdown",
      "source": [
        "압축해제 하지 않고 이미지 불러오기"
      ],
      "metadata": {
        "id": "Ol_wBaIzy9-m"
      }
    },
    {
      "cell_type": "code",
      "source": [
        "import tarfile\n",
        "import numpy as np\n",
        "from PIL import Image\n",
        "import io"
      ],
      "metadata": {
        "id": "YNF8uJ4OhJ2O"
      },
      "execution_count": 8,
      "outputs": []
    },
    {
      "cell_type": "code",
      "source": [
        "tar_path = '/content/gdrive/MyDrive/Colab Notebooks/SMWU/2024/Image Dataset/ADNI_1Y_15T.tar'\n",
        "tar = tarfile.open(tar_path, mode='r')"
      ],
      "metadata": {
        "id": "a3FNvZxnrARa"
      },
      "execution_count": 9,
      "outputs": []
    },
    {
      "cell_type": "code",
      "source": [
        "# tar.getnames()"
      ],
      "metadata": {
        "id": "yywaPjWPrAN_"
      },
      "execution_count": 10,
      "outputs": []
    },
    {
      "cell_type": "code",
      "source": [
        "# tar.getmembers()"
      ],
      "metadata": {
        "id": "nb-ZCxCdrALk"
      },
      "execution_count": 11,
      "outputs": []
    },
    {
      "cell_type": "code",
      "source": [
        "images = []\n",
        "labels = []\n",
        "img_PTID = []\n",
        "no_labels = []\n",
        "\n",
        "# .tar 파일 열기\n",
        "with tarfile.open(tar_path, \"r\") as tar:\n",
        "    for member in tqdm(tar.getmembers()):\n",
        "\n",
        "        # .jpg 파일만 처리\n",
        "        if member.isfile() and member.name.lower().endswith('.jpg'):\n",
        "            try:\n",
        "                # tar 파일 내의 이미지 데이터를 읽어 메모리에 로드\n",
        "                file_obj = tar.extractfile(member)\n",
        "                if file_obj is not None:\n",
        "                    PT_ID = member.name.split('/')[1]\n",
        "                    if PT_ID in df['PTID'].values:\n",
        "                        labels.append(df[df['PTID']==PT_ID]['DX_bl'].values[0])\n",
        "                        image = Image.open(io.BytesIO(file_obj.read()))\n",
        "                        images.append(image)\n",
        "                        img_PTID.append(PT_ID)\n",
        "                        # print(f\"Loaded image: {member.name}\")\n",
        "                    else:\n",
        "                        no_labels.append(PT_ID)\n",
        "\n",
        "\n",
        "            except Exception as e:\n",
        "                print(f\"Failed to load image {member.name}: {e}\")\n",
        "\n"
      ],
      "metadata": {
        "colab": {
          "base_uri": "https://localhost:8080/"
        },
        "id": "sMbs0yK1rAIb",
        "outputId": "6921cb00-4aaa-45c3-8fcb-e10c1477ca41"
      },
      "execution_count": 12,
      "outputs": [
        {
          "output_type": "stream",
          "name": "stderr",
          "text": [
            "100%|██████████| 13420/13420 [00:10<00:00, 1306.89it/s]\n"
          ]
        }
      ]
    },
    {
      "cell_type": "code",
      "source": [
        "print(len(images))\n",
        "print(len(labels))\n",
        "print(len(no_labels))"
      ],
      "metadata": {
        "colab": {
          "base_uri": "https://localhost:8080/"
        },
        "id": "vC5GoFGSsgyV",
        "outputId": "b6cd6878-8b0e-4b4f-924e-e09c8b9fd3c6"
      },
      "execution_count": 13,
      "outputs": [
        {
          "output_type": "stream",
          "name": "stdout",
          "text": [
            "12480\n",
            "12480\n",
            "300\n"
          ]
        }
      ]
    },
    {
      "cell_type": "code",
      "source": [
        "set(no_labels)"
      ],
      "metadata": {
        "colab": {
          "base_uri": "https://localhost:8080/"
        },
        "id": "DFk2VtfEmzx1",
        "outputId": "361d8124-df0a-466a-87fd-19669ad40992"
      },
      "execution_count": 14,
      "outputs": [
        {
          "output_type": "execute_result",
          "data": {
            "text/plain": [
              "{'012_S_0712',\n",
              " '013_S_1205',\n",
              " '023_S_0030',\n",
              " '023_S_0083',\n",
              " '027_S_0644',\n",
              " '027_S_1385',\n",
              " '027_S_1387',\n",
              " '041_S_1423',\n",
              " '067_S_0056',\n",
              " '098_S_0149',\n",
              " '098_S_0160',\n",
              " '123_S_0162',\n",
              " '137_S_0459',\n",
              " '137_S_0631',\n",
              " '141_S_0853'}"
            ]
          },
          "metadata": {},
          "execution_count": 14
        }
      ]
    },
    {
      "cell_type": "code",
      "source": [
        "images[0].shape ### MRI Image는 192x192 사이즈에 채널이 3채널입니다."
      ],
      "metadata": {
        "id": "q2Iw4n_Mmzq2"
      },
      "execution_count": 14,
      "outputs": []
    },
    {
      "cell_type": "code",
      "source": [],
      "metadata": {
        "id": "_5eNT-DUBlPp"
      },
      "execution_count": null,
      "outputs": []
    },
    {
      "cell_type": "markdown",
      "source": [
        "### 문자형 레이블을 categorical number로 변환"
      ],
      "metadata": {
        "id": "wiSQqNJdEdpE"
      }
    },
    {
      "cell_type": "code",
      "source": [
        "from sklearn.preprocessing import LabelEncoder\n",
        "le = LabelEncoder()\n",
        "labels_enc = le.fit_transform(labels)\n",
        "labels_enc"
      ],
      "metadata": {
        "colab": {
          "base_uri": "https://localhost:8080/"
        },
        "id": "wmeFh6KWmzof",
        "outputId": "c421003c-aec8-448b-bc96-18d00b853100"
      },
      "execution_count": 15,
      "outputs": [
        {
          "output_type": "execute_result",
          "data": {
            "text/plain": [
              "array([2, 2, 2, ..., 2, 2, 2])"
            ]
          },
          "metadata": {},
          "execution_count": 15
        }
      ]
    },
    {
      "cell_type": "code",
      "source": [
        "print(list(le.classes_))\n",
        "print(le.transform(list(le.classes_)))"
      ],
      "metadata": {
        "colab": {
          "base_uri": "https://localhost:8080/"
        },
        "id": "ivRGAqripCxg",
        "outputId": "dd36b7db-338f-46da-810e-4470597eb71a"
      },
      "execution_count": 16,
      "outputs": [
        {
          "output_type": "stream",
          "name": "stdout",
          "text": [
            "['AD', 'CN', 'LMCI']\n",
            "[0 1 2]\n"
          ]
        }
      ]
    },
    {
      "cell_type": "code",
      "source": [
        "from collections import Counter\n",
        "Counter(labels_enc)"
      ],
      "metadata": {
        "colab": {
          "base_uri": "https://localhost:8080/"
        },
        "id": "5yQyFdAFpRFw",
        "outputId": "a9f39161-4a12-46fa-c740-b7714f162a4c"
      },
      "execution_count": 17,
      "outputs": [
        {
          "output_type": "execute_result",
          "data": {
            "text/plain": [
              "Counter({2: 6100, 1: 3860, 0: 2520})"
            ]
          },
          "metadata": {},
          "execution_count": 17
        }
      ]
    },
    {
      "cell_type": "code",
      "source": [],
      "metadata": {
        "id": "mLajzbTupRDG"
      },
      "execution_count": 17,
      "outputs": []
    },
    {
      "cell_type": "code",
      "source": [],
      "metadata": {
        "id": "qrWl5pCHpRAd"
      },
      "execution_count": 17,
      "outputs": []
    },
    {
      "cell_type": "markdown",
      "source": [
        "### 이미지 전처리"
      ],
      "metadata": {
        "id": "vJd4L6BNErEK"
      }
    },
    {
      "cell_type": "code",
      "source": [
        "img_size = []\n",
        "for img in images:\n",
        "    img_size.append(img.size)\n",
        "\n",
        "result = Counter(img_size)\n",
        "print(result)"
      ],
      "metadata": {
        "colab": {
          "base_uri": "https://localhost:8080/"
        },
        "id": "yK7Z9CS6sod7",
        "outputId": "62d7eb57-6fe7-4bc4-adb9-4ccb81f9e141"
      },
      "execution_count": 18,
      "outputs": [
        {
          "output_type": "stream",
          "name": "stdout",
          "text": [
            "Counter({(256, 256): 7660, (192, 192): 4820})\n"
          ]
        }
      ]
    },
    {
      "cell_type": "code",
      "source": [
        "images[0]"
      ],
      "metadata": {
        "colab": {
          "base_uri": "https://localhost:8080/",
          "height": 209
        },
        "id": "WdIWQx7Fu-zm",
        "outputId": "4efec71a-0401-4b1f-a427-3eb34e11ae6b"
      },
      "execution_count": 19,
      "outputs": [
        {
          "output_type": "execute_result",
          "data": {
            "text/plain": [
              "<PIL.JpegImagePlugin.JpegImageFile image mode=RGB size=192x192>"
            ],
            "image/png": "[encoded data removed]",
            "image/jpeg": "[encoded data removed]"
          },
          "metadata": {},
          "execution_count": 19
        }
      ]
    },
    {
      "cell_type": "code",
      "source": [],
      "metadata": {
        "id": "LcU0KhIFu-tn"
      },
      "execution_count": 19,
      "outputs": []
    },
    {
      "cell_type": "code",
      "source": [
        "import torch\n",
        "import torch.nn as nn\n",
        "import torchvision\n",
        "from torchvision import transforms\n",
        "from torch.utils.data import Dataset, DataLoader"
      ],
      "metadata": {
        "id": "3TO1fLXxul-3"
      },
      "execution_count": 20,
      "outputs": []
    },
    {
      "cell_type": "code",
      "source": [
        "img_tensors = []\n",
        "\n",
        "transform = transforms.Compose([\n",
        "        transforms.Resize((192,192)),  # 이미지 크기 조정\n",
        "        transforms.ToTensor(),         # 텐서로 변환\n",
        "        # transforms.Normalize(mean=[0.485, 0.456, 0.406], std=[0.229, 0.224, 0.225])  # 정규화\n",
        "    ])\n",
        "\n",
        "for img in tqdm(images):\n",
        "    img_tensor = transform(img)\n",
        "    img_tensors.append(img_tensor)"
      ],
      "metadata": {
        "id": "TkhUtnubvBCB",
        "colab": {
          "base_uri": "https://localhost:8080/"
        },
        "outputId": "e4154c4a-3d5b-4461-9a22-3d17e930b512"
      },
      "execution_count": 21,
      "outputs": [
        {
          "output_type": "stream",
          "name": "stderr",
          "text": [
            "100%|██████████| 12480/12480 [00:23<00:00, 524.74it/s]\n"
          ]
        }
      ]
    },
    {
      "cell_type": "code",
      "source": [
        "print(len(img_tensors))\n",
        "print(len(labels_enc))"
      ],
      "metadata": {
        "colab": {
          "base_uri": "https://localhost:8080/"
        },
        "id": "uRrbKeOwthrp",
        "outputId": "97e8224d-56c7-494f-9b0e-638943f7cab7"
      },
      "execution_count": 22,
      "outputs": [
        {
          "output_type": "stream",
          "name": "stdout",
          "text": [
            "12480\n",
            "12480\n"
          ]
        }
      ]
    },
    {
      "cell_type": "code",
      "source": [],
      "metadata": {
        "id": "-epadvQ5thmf"
      },
      "execution_count": 22,
      "outputs": []
    },
    {
      "cell_type": "markdown",
      "source": [
        "# 2. Dataset Split"
      ],
      "metadata": {
        "id": "n1NcTBFfE-Uq"
      }
    },
    {
      "cell_type": "markdown",
      "source": [
        "환자별로 20장의 데이터가 주어졌는데 이 20장의 이미지가 거의 비슷하기 때문에 환자를 무시하고 전부 랜덤으로 나누면 너무 쉬운 task가 됩니다. 그래서 1번 환자는 train, 2번 환자는 test... 처럼 환자를 기준으로 train-validation-test를 구분하겠습니다."
      ],
      "metadata": {
        "id": "E3U2kmd-_8xl"
      }
    },
    {
      "cell_type": "code",
      "source": [
        "from sklearn.model_selection import train_test_split\n",
        "\n",
        "train_val_ID, test_ID = train_test_split(list(set(img_PTID)), test_size=0.1, random_state=15)\n",
        "\n",
        "train_ID, val_ID = train_test_split(train_val_ID, test_size=0.1, random_state=15)\n",
        "\n",
        "print('# of train_set : %.0f, # of train_set : %.0f, # of test_set : %.0f' %(len(train_ID), len(val_ID), len(test_ID)))"
      ],
      "metadata": {
        "colab": {
          "base_uri": "https://localhost:8080/"
        },
        "id": "RdzuntGcUdXK",
        "outputId": "c7f0bcda-27c1-4e77-c1c8-5efddad633ac"
      },
      "execution_count": 23,
      "outputs": [
        {
          "output_type": "stream",
          "name": "stdout",
          "text": [
            "# of train_set : 504, # of train_set : 57, # of test_set : 63\n"
          ]
        }
      ]
    },
    {
      "cell_type": "code",
      "source": [
        "train_X = []\n",
        "train_Y = []\n",
        "val_X = []\n",
        "val_Y = []\n",
        "test_X = []\n",
        "test_Y = []\n",
        "\n",
        "for idx, id in enumerate(img_PTID):\n",
        "    if id in train_ID:\n",
        "        train_X.append(img_tensors[idx])\n",
        "        train_Y.append(labels_enc[idx])\n",
        "    elif id in val_ID:\n",
        "        val_X.append(img_tensors[idx])\n",
        "        val_Y.append(labels_enc[idx])\n",
        "    elif id in test_ID:\n",
        "        test_X.append(img_tensors[idx])\n",
        "        test_Y.append(labels_enc[idx])\n",
        "    else:\n",
        "        print('{} error!!'.f(id))"
      ],
      "metadata": {
        "id": "CepU1zDuUoq7"
      },
      "execution_count": 24,
      "outputs": []
    },
    {
      "cell_type": "code",
      "source": [
        "tr_Y_valued = np.array(train_Y).reshape(-1,1)\n",
        "val_Y_valued = np.array(val_Y).reshape(-1,1)\n",
        "test_Y_valued = np.array(test_Y).reshape(-1,1)\n",
        "\n",
        "tr_Y_valued"
      ],
      "metadata": {
        "colab": {
          "base_uri": "https://localhost:8080/"
        },
        "id": "hm0JQ2ikxrXs",
        "outputId": "4beddee6-6b63-42e5-b372-2e7c5ab95ddf"
      },
      "execution_count": 25,
      "outputs": [
        {
          "output_type": "execute_result",
          "data": {
            "text/plain": [
              "array([[2],\n",
              "       [2],\n",
              "       [2],\n",
              "       ...,\n",
              "       [2],\n",
              "       [2],\n",
              "       [2]])"
            ]
          },
          "metadata": {},
          "execution_count": 25
        }
      ]
    },
    {
      "cell_type": "code",
      "source": [
        "print('# of train_set : %.0f, # of train_set : %.0f, # of test_set : %.0f' %(len(train_X), len(val_X), len(test_X)))"
      ],
      "metadata": {
        "id": "Fdd4LRHRFAfm",
        "colab": {
          "base_uri": "https://localhost:8080/"
        },
        "outputId": "d52ea05c-d215-4357-c58d-083ed2e6cb6d"
      },
      "execution_count": 26,
      "outputs": [
        {
          "output_type": "stream",
          "name": "stdout",
          "text": [
            "# of train_set : 10080, # of train_set : 1140, # of test_set : 1260\n"
          ]
        }
      ]
    },
    {
      "cell_type": "code",
      "source": [],
      "metadata": {
        "id": "R8dr4MINFAdR"
      },
      "execution_count": 26,
      "outputs": []
    },
    {
      "cell_type": "markdown",
      "source": [
        "# 3. Model Training"
      ],
      "metadata": {
        "id": "JOmH2Uc_FFAa"
      }
    },
    {
      "cell_type": "code",
      "source": [
        "import torch.nn as nn"
      ],
      "metadata": {
        "id": "vuej7fbvkjnW"
      },
      "execution_count": 27,
      "outputs": []
    },
    {
      "cell_type": "code",
      "source": [
        "import random\n",
        "\n",
        "torch.manual_seed(config.seed)\n",
        "random.seed(config.seed)\n",
        "np.random.seed(config.seed)"
      ],
      "metadata": {
        "id": "rkeih1Wykjk2"
      },
      "execution_count": 28,
      "outputs": []
    },
    {
      "cell_type": "code",
      "source": [
        "device = torch.device('cuda') if torch.cuda.is_available() else torch.device('cpu')\n",
        "print(device)"
      ],
      "metadata": {
        "colab": {
          "base_uri": "https://localhost:8080/"
        },
        "id": "gr_M01ZKkjif",
        "outputId": "bc1aa564-75af-4d80-8c7b-8eeb6ec9941d"
      },
      "execution_count": 29,
      "outputs": [
        {
          "output_type": "stream",
          "name": "stdout",
          "text": [
            "cuda\n"
          ]
        }
      ]
    },
    {
      "cell_type": "code",
      "source": [],
      "metadata": {
        "id": "_N0yu0vAFQuj"
      },
      "execution_count": 29,
      "outputs": []
    },
    {
      "cell_type": "markdown",
      "source": [
        "### DataLoader"
      ],
      "metadata": {
        "id": "NdQUWudqFSS9"
      }
    },
    {
      "cell_type": "code",
      "source": [
        "# Creating the dataset class\n",
        "class CustomDataset(Dataset):\n",
        "    # Constructor\n",
        "    def __init__(self, x_, y_): ### (self는 무시하고) 데이터 보따리에 함수 순서 맞춰서 데이터 가져옴\n",
        "        self.x_data = x_\n",
        "        self.y_data = y_\n",
        "\n",
        "    # getting data length\n",
        "    def __len__(self): ### (self는 무시하고) 데이터 보따리 안에 있는 총 데이터 개수 카운트\n",
        "        return len(self.x_data)\n",
        "\n",
        "    # Getter\n",
        "    def __getitem__(self, idx): ### (self는 무시하고) 데이터 보따리 안에 있는 데이터에 순서대로 index 붙여서 꺼내옴.\n",
        "        # return torch.FloatTensor(self.x_data[idx]), torch.FloatTensor(self.y_data[idx])\n",
        "        return torch.FloatTensor(self.x_data[idx]), torch.LongTensor(self.y_data[idx]) ### 위에꺼 에러나서 디버깅하다보니 되는걸로 변경"
      ],
      "metadata": {
        "id": "jHFyAeH-zODQ"
      },
      "execution_count": 30,
      "outputs": []
    },
    {
      "cell_type": "code",
      "source": [
        "tr_dataset = CustomDataset(train_X, tr_Y_valued )\n",
        "tr_dataloader = DataLoader(tr_dataset, batch_size=16, shuffle=True)\n",
        "\n",
        "val_dataset = CustomDataset(val_X, val_Y_valued )\n",
        "val_dataloader = DataLoader(val_dataset, batch_size=len(val_X), shuffle=False)\n",
        "\n",
        "test_dataset = CustomDataset(test_X, test_Y_valued )\n",
        "test_dataloader = DataLoader(test_dataset, batch_size=len(test_X), shuffle=False)"
      ],
      "metadata": {
        "id": "5TsGq7BuzOAd"
      },
      "execution_count": 31,
      "outputs": []
    },
    {
      "cell_type": "code",
      "source": [
        "loader_iter = iter(tr_dataloader)\n",
        "img = next(loader_iter)\n",
        "img"
      ],
      "metadata": {
        "colab": {
          "base_uri": "https://localhost:8080/"
        },
        "id": "cH8WRTxgxDF8",
        "outputId": "a0c6cff1-7418-4765-cf83-eebc171dbd60"
      },
      "execution_count": 32,
      "outputs": [
        {
          "output_type": "execute_result",
          "data": {
            "text/plain": [
              "[tensor([[[[0.0000, 0.0000, 0.0000,  ..., 0.0000, 0.0039, 0.0000],\n",
              "           [0.0078, 0.0039, 0.0039,  ..., 0.0078, 0.0118, 0.0039],\n",
              "           [0.0078, 0.0039, 0.0078,  ..., 0.0196, 0.0118, 0.0039],\n",
              "           ...,\n",
              "           [0.0000, 0.0078, 0.0078,  ..., 0.0431, 0.0157, 0.0000],\n",
              "           [0.0000, 0.0039, 0.0118,  ..., 0.0118, 0.0039, 0.0039],\n",
              "           [0.0000, 0.0039, 0.0118,  ..., 0.0157, 0.0118, 0.0000]],\n",
              " \n",
              "          [[0.0000, 0.0000, 0.0000,  ..., 0.0000, 0.0039, 0.0000],\n",
              "           [0.0078, 0.0039, 0.0039,  ..., 0.0078, 0.0118, 0.0039],\n",
              "           [0.0078, 0.0039, 0.0078,  ..., 0.0196, 0.0118, 0.0039],\n",
              "           ...,\n",
              "           [0.0000, 0.0078, 0.0078,  ..., 0.0431, 0.0157, 0.0000],\n",
              "           [0.0000, 0.0039, 0.0118,  ..., 0.0118, 0.0039, 0.0039],\n",
              "           [0.0000, 0.0039, 0.0118,  ..., 0.0157, 0.0118, 0.0000]],\n",
              " \n",
              "          [[0.0000, 0.0000, 0.0000,  ..., 0.0000, 0.0039, 0.0000],\n",
              "           [0.0078, 0.0039, 0.0039,  ..., 0.0078, 0.0118, 0.0039],\n",
              "           [0.0078, 0.0039, 0.0078,  ..., 0.0196, 0.0118, 0.0039],\n",
              "           ...,\n",
              "           [0.0000, 0.0078, 0.0078,  ..., 0.0431, 0.0157, 0.0000],\n",
              "           [0.0000, 0.0039, 0.0118,  ..., 0.0118, 0.0039, 0.0039],\n",
              "           [0.0000, 0.0039, 0.0118,  ..., 0.0157, 0.0118, 0.0000]]],\n",
              " \n",
              " \n",
              "         [[[0.0000, 0.0000, 0.0000,  ..., 0.0000, 0.0000, 0.0000],\n",
              "           [0.0000, 0.0000, 0.0000,  ..., 0.0000, 0.0000, 0.0000],\n",
              "           [0.0000, 0.0000, 0.0000,  ..., 0.0000, 0.0000, 0.0000],\n",
              "           ...,\n",
              "           [0.0000, 0.0000, 0.0000,  ..., 0.0000, 0.0000, 0.0000],\n",
              "           [0.0000, 0.0000, 0.0000,  ..., 0.0000, 0.0000, 0.0000],\n",
              "           [0.0000, 0.0000, 0.0000,  ..., 0.0000, 0.0000, 0.0000]],\n",
              " \n",
              "          [[0.0000, 0.0000, 0.0000,  ..., 0.0000, 0.0000, 0.0000],\n",
              "           [0.0000, 0.0000, 0.0000,  ..., 0.0000, 0.0000, 0.0000],\n",
              "           [0.0000, 0.0000, 0.0000,  ..., 0.0000, 0.0000, 0.0000],\n",
              "           ...,\n",
              "           [0.0000, 0.0000, 0.0000,  ..., 0.0000, 0.0000, 0.0000],\n",
              "           [0.0000, 0.0000, 0.0000,  ..., 0.0000, 0.0000, 0.0000],\n",
              "           [0.0000, 0.0000, 0.0000,  ..., 0.0000, 0.0000, 0.0000]],\n",
              " \n",
              "          [[0.0000, 0.0000, 0.0000,  ..., 0.0000, 0.0000, 0.0000],\n",
              "           [0.0000, 0.0000, 0.0000,  ..., 0.0000, 0.0000, 0.0000],\n",
              "           [0.0000, 0.0000, 0.0000,  ..., 0.0000, 0.0000, 0.0000],\n",
              "           ...,\n",
              "           [0.0000, 0.0000, 0.0000,  ..., 0.0000, 0.0000, 0.0000],\n",
              "           [0.0000, 0.0000, 0.0000,  ..., 0.0000, 0.0000, 0.0000],\n",
              "           [0.0000, 0.0000, 0.0000,  ..., 0.0000, 0.0000, 0.0000]]],\n",
              " \n",
              " \n",
              "         [[[0.0000, 0.0000, 0.0000,  ..., 0.0000, 0.0000, 0.0000],\n",
              "           [0.0000, 0.0000, 0.0000,  ..., 0.0000, 0.0000, 0.0000],\n",
              "           [0.0000, 0.0000, 0.0000,  ..., 0.0000, 0.0000, 0.0000],\n",
              "           ...,\n",
              "           [0.0000, 0.0000, 0.0000,  ..., 0.0000, 0.0000, 0.0000],\n",
              "           [0.0000, 0.0000, 0.0000,  ..., 0.0000, 0.0000, 0.0000],\n",
              "           [0.0000, 0.0000, 0.0000,  ..., 0.0000, 0.0000, 0.0000]],\n",
              " \n",
              "          [[0.0000, 0.0000, 0.0000,  ..., 0.0000, 0.0000, 0.0000],\n",
              "           [0.0000, 0.0000, 0.0000,  ..., 0.0000, 0.0000, 0.0000],\n",
              "           [0.0000, 0.0000, 0.0000,  ..., 0.0000, 0.0000, 0.0000],\n",
              "           ...,\n",
              "           [0.0000, 0.0000, 0.0000,  ..., 0.0000, 0.0000, 0.0000],\n",
              "           [0.0000, 0.0000, 0.0000,  ..., 0.0000, 0.0000, 0.0000],\n",
              "           [0.0000, 0.0000, 0.0000,  ..., 0.0000, 0.0000, 0.0000]],\n",
              " \n",
              "          [[0.0000, 0.0000, 0.0000,  ..., 0.0000, 0.0000, 0.0000],\n",
              "           [0.0000, 0.0000, 0.0000,  ..., 0.0000, 0.0000, 0.0000],\n",
              "           [0.0000, 0.0000, 0.0000,  ..., 0.0000, 0.0000, 0.0000],\n",
              "           ...,\n",
              "           [0.0000, 0.0000, 0.0000,  ..., 0.0000, 0.0000, 0.0000],\n",
              "           [0.0000, 0.0000, 0.0000,  ..., 0.0000, 0.0000, 0.0000],\n",
              "           [0.0000, 0.0000, 0.0000,  ..., 0.0000, 0.0000, 0.0000]]],\n",
              " \n",
              " \n",
              "         ...,\n",
              " \n",
              " \n",
              "         [[[0.0000, 0.0000, 0.0000,  ..., 0.0000, 0.0000, 0.0000],\n",
              "           [0.0000, 0.0000, 0.0000,  ..., 0.0000, 0.0000, 0.0000],\n",
              "           [0.0000, 0.0000, 0.0000,  ..., 0.0000, 0.0000, 0.0000],\n",
              "           ...,\n",
              "           [0.0000, 0.0000, 0.0000,  ..., 0.0000, 0.0000, 0.0000],\n",
              "           [0.0000, 0.0000, 0.0000,  ..., 0.0000, 0.0000, 0.0000],\n",
              "           [0.0000, 0.0000, 0.0000,  ..., 0.0000, 0.0000, 0.0000]],\n",
              " \n",
              "          [[0.0000, 0.0000, 0.0000,  ..., 0.0000, 0.0000, 0.0000],\n",
              "           [0.0000, 0.0000, 0.0000,  ..., 0.0000, 0.0000, 0.0000],\n",
              "           [0.0000, 0.0000, 0.0000,  ..., 0.0000, 0.0000, 0.0000],\n",
              "           ...,\n",
              "           [0.0000, 0.0000, 0.0000,  ..., 0.0000, 0.0000, 0.0000],\n",
              "           [0.0000, 0.0000, 0.0000,  ..., 0.0000, 0.0000, 0.0000],\n",
              "           [0.0000, 0.0000, 0.0000,  ..., 0.0000, 0.0000, 0.0000]],\n",
              " \n",
              "          [[0.0000, 0.0000, 0.0000,  ..., 0.0000, 0.0000, 0.0000],\n",
              "           [0.0000, 0.0000, 0.0000,  ..., 0.0000, 0.0000, 0.0000],\n",
              "           [0.0000, 0.0000, 0.0000,  ..., 0.0000, 0.0000, 0.0000],\n",
              "           ...,\n",
              "           [0.0000, 0.0000, 0.0000,  ..., 0.0000, 0.0000, 0.0000],\n",
              "           [0.0000, 0.0000, 0.0000,  ..., 0.0000, 0.0000, 0.0000],\n",
              "           [0.0000, 0.0000, 0.0000,  ..., 0.0000, 0.0000, 0.0000]]],\n",
              " \n",
              " \n",
              "         [[[0.0000, 0.0000, 0.0000,  ..., 0.0000, 0.0000, 0.0000],\n",
              "           [0.0000, 0.0000, 0.0000,  ..., 0.0000, 0.0000, 0.0000],\n",
              "           [0.0000, 0.0000, 0.0000,  ..., 0.0000, 0.0000, 0.0000],\n",
              "           ...,\n",
              "           [0.0000, 0.0000, 0.0000,  ..., 0.0000, 0.0000, 0.0000],\n",
              "           [0.0000, 0.0000, 0.0000,  ..., 0.0000, 0.0000, 0.0000],\n",
              "           [0.0000, 0.0000, 0.0000,  ..., 0.0000, 0.0000, 0.0000]],\n",
              " \n",
              "          [[0.0000, 0.0000, 0.0000,  ..., 0.0000, 0.0000, 0.0000],\n",
              "           [0.0000, 0.0000, 0.0000,  ..., 0.0000, 0.0000, 0.0000],\n",
              "           [0.0000, 0.0000, 0.0000,  ..., 0.0000, 0.0000, 0.0000],\n",
              "           ...,\n",
              "           [0.0000, 0.0000, 0.0000,  ..., 0.0000, 0.0000, 0.0000],\n",
              "           [0.0000, 0.0000, 0.0000,  ..., 0.0000, 0.0000, 0.0000],\n",
              "           [0.0000, 0.0000, 0.0000,  ..., 0.0000, 0.0000, 0.0000]],\n",
              " \n",
              "          [[0.0000, 0.0000, 0.0000,  ..., 0.0000, 0.0000, 0.0000],\n",
              "           [0.0000, 0.0000, 0.0000,  ..., 0.0000, 0.0000, 0.0000],\n",
              "           [0.0000, 0.0000, 0.0000,  ..., 0.0000, 0.0000, 0.0000],\n",
              "           ...,\n",
              "           [0.0000, 0.0000, 0.0000,  ..., 0.0000, 0.0000, 0.0000],\n",
              "           [0.0000, 0.0000, 0.0000,  ..., 0.0000, 0.0000, 0.0000],\n",
              "           [0.0000, 0.0000, 0.0000,  ..., 0.0000, 0.0000, 0.0000]]],\n",
              " \n",
              " \n",
              "         [[[0.0000, 0.0000, 0.0000,  ..., 0.0000, 0.0000, 0.0000],\n",
              "           [0.0000, 0.0000, 0.0000,  ..., 0.0000, 0.0000, 0.0000],\n",
              "           [0.0000, 0.0000, 0.0000,  ..., 0.0000, 0.0000, 0.0000],\n",
              "           ...,\n",
              "           [0.0000, 0.0000, 0.0000,  ..., 0.0000, 0.0000, 0.0000],\n",
              "           [0.0000, 0.0000, 0.0000,  ..., 0.0000, 0.0000, 0.0000],\n",
              "           [0.0000, 0.0000, 0.0000,  ..., 0.0000, 0.0000, 0.0000]],\n",
              " \n",
              "          [[0.0000, 0.0000, 0.0000,  ..., 0.0000, 0.0000, 0.0000],\n",
              "           [0.0000, 0.0000, 0.0000,  ..., 0.0000, 0.0000, 0.0000],\n",
              "           [0.0000, 0.0000, 0.0000,  ..., 0.0000, 0.0000, 0.0000],\n",
              "           ...,\n",
              "           [0.0000, 0.0000, 0.0000,  ..., 0.0000, 0.0000, 0.0000],\n",
              "           [0.0000, 0.0000, 0.0000,  ..., 0.0000, 0.0000, 0.0000],\n",
              "           [0.0000, 0.0000, 0.0000,  ..., 0.0000, 0.0000, 0.0000]],\n",
              " \n",
              "          [[0.0000, 0.0000, 0.0000,  ..., 0.0000, 0.0000, 0.0000],\n",
              "           [0.0000, 0.0000, 0.0000,  ..., 0.0000, 0.0000, 0.0000],\n",
              "           [0.0000, 0.0000, 0.0000,  ..., 0.0000, 0.0000, 0.0000],\n",
              "           ...,\n",
              "           [0.0000, 0.0000, 0.0000,  ..., 0.0000, 0.0000, 0.0000],\n",
              "           [0.0000, 0.0000, 0.0000,  ..., 0.0000, 0.0000, 0.0000],\n",
              "           [0.0000, 0.0000, 0.0000,  ..., 0.0000, 0.0000, 0.0000]]]]),\n",
              " tensor([[1],\n",
              "         [1],\n",
              "         [1],\n",
              "         [2],\n",
              "         [1],\n",
              "         [0],\n",
              "         [1],\n",
              "         [2],\n",
              "         [1],\n",
              "         [2],\n",
              "         [2],\n",
              "         [1],\n",
              "         [2],\n",
              "         [2],\n",
              "         [1],\n",
              "         [2]])]"
            ]
          },
          "metadata": {},
          "execution_count": 32
        }
      ]
    },
    {
      "cell_type": "code",
      "source": [
        "# import matplotlib.pyplot as plt\n",
        "# imgs = torchvision.utils.make_grid(img, nrow=4)\n",
        "# np_img = imgs.numpy()\n",
        "# plt.imshow(np.transpose(np_img, (1,2,0)))"
      ],
      "metadata": {
        "id": "Iei9pmE9xrMC"
      },
      "execution_count": 33,
      "outputs": []
    },
    {
      "cell_type": "code",
      "source": [
        "import matplotlib.pyplot as plt\n",
        "image, label = next(iter(val_dataloader))\n",
        "\n",
        "idx = 3\n",
        "\n",
        "plt.imshow(image[idx, 0, :, :], 'gray')\n",
        "print('label : ', label[idx])\n",
        "plt.show()"
      ],
      "metadata": {
        "id": "UTTdQI1px5U4",
        "colab": {
          "base_uri": "https://localhost:8080/",
          "height": 452
        },
        "outputId": "85db67e5-964b-4d04-b777-96d4cfdb2264"
      },
      "execution_count": 34,
      "outputs": [
        {
          "output_type": "stream",
          "name": "stdout",
          "text": [
            "label :  tensor([2])\n"
          ]
        },
        {
          "output_type": "display_data",
          "data": {
            "text/plain": [
              "<Figure size 640x480 with 1 Axes>"
            ],
            "image/png": "[encoded data removed]"
          },
          "metadata": {}
        }
      ]
    },
    {
      "cell_type": "code",
      "source": [],
      "metadata": {
        "id": "tueFlLR4kjpX"
      },
      "execution_count": 34,
      "outputs": []
    },
    {
      "cell_type": "markdown",
      "source": [
        "### Model Setting"
      ],
      "metadata": {
        "id": "R_aUrpzWFWOO"
      }
    },
    {
      "cell_type": "markdown",
      "source": [
        "torch.nn.Conv2d(in_channels, out_channels, kernel_size, stride=1, padding=0, dilation=1, groups=1, bias=True, padding_mode='zeros', device=None, dtype=None)"
      ],
      "metadata": {
        "id": "jQUXgjCR6zGE"
      }
    },
    {
      "cell_type": "code",
      "source": [
        "class ConvNet(nn.Module):\n",
        "    def __init__(self):\n",
        "        super(ConvNet, self).__init__()\n",
        "\n",
        "        self.layer1 = nn.Sequential(\n",
        "            nn.Conv2d(3, config.num_filter[0], kernel_size=5, stride=1, padding=2),\n",
        "            nn.ReLU(),\n",
        "            nn.MaxPool2d(kernel_size=2, stride=2) ## 96x96\n",
        "            )\n",
        "\n",
        "        self.layer2 = nn.Sequential(\n",
        "            nn.Conv2d(config.num_filter[0], config.num_filter[1], kernel_size=5, stride=1, padding=2),\n",
        "            nn.ReLU(),\n",
        "            nn.MaxPool2d(kernel_size=2, stride=2) ## 48x48\n",
        "            )\n",
        "\n",
        "        self.layer3 = nn.Sequential(\n",
        "            nn.Conv2d(config.num_filter[1], config.num_filter[2], kernel_size=5, stride=1, padding=2),\n",
        "            nn.ReLU(),\n",
        "            nn.MaxPool2d(kernel_size=2, stride=2) ## 24x24\n",
        "            )\n",
        "\n",
        "        self.fc1 = nn.Linear(24 * 24 * 32, 1000)\n",
        "        self.fc2 = nn.Linear(1000, 3)\n",
        "\n",
        "    def forward(self, x):\n",
        "        out = self.layer1(x)\n",
        "        out = self.layer2(out)\n",
        "        out = self.layer3(out)\n",
        "        out = out.reshape(out.size(0), -1) ## Vectorize, Flatten\n",
        "        out = self.fc1(out)\n",
        "        out = self.fc2(out)\n",
        "        return out"
      ],
      "metadata": {
        "id": "t0CweNA_kjdf"
      },
      "execution_count": 35,
      "outputs": []
    },
    {
      "cell_type": "code",
      "source": [
        "model = ConvNet().to(device)\n",
        "print(model)"
      ],
      "metadata": {
        "colab": {
          "base_uri": "https://localhost:8080/"
        },
        "id": "f_UX7Ig_9X1n",
        "outputId": "23d08dd4-54ed-46cf-f519-862aad706121"
      },
      "execution_count": 36,
      "outputs": [
        {
          "output_type": "stream",
          "name": "stdout",
          "text": [
            "ConvNet(\n",
            "  (layer1): Sequential(\n",
            "    (0): Conv2d(3, 16, kernel_size=(5, 5), stride=(1, 1), padding=(2, 2))\n",
            "    (1): ReLU()\n",
            "    (2): MaxPool2d(kernel_size=2, stride=2, padding=0, dilation=1, ceil_mode=False)\n",
            "  )\n",
            "  (layer2): Sequential(\n",
            "    (0): Conv2d(16, 32, kernel_size=(5, 5), stride=(1, 1), padding=(2, 2))\n",
            "    (1): ReLU()\n",
            "    (2): MaxPool2d(kernel_size=2, stride=2, padding=0, dilation=1, ceil_mode=False)\n",
            "  )\n",
            "  (layer3): Sequential(\n",
            "    (0): Conv2d(32, 32, kernel_size=(5, 5), stride=(1, 1), padding=(2, 2))\n",
            "    (1): ReLU()\n",
            "    (2): MaxPool2d(kernel_size=2, stride=2, padding=0, dilation=1, ceil_mode=False)\n",
            "  )\n",
            "  (fc1): Linear(in_features=18432, out_features=1000, bias=True)\n",
            "  (fc2): Linear(in_features=1000, out_features=3, bias=True)\n",
            ")\n"
          ]
        }
      ]
    },
    {
      "cell_type": "code",
      "source": [],
      "metadata": {
        "id": "S4ua6ul79gcB"
      },
      "execution_count": null,
      "outputs": []
    },
    {
      "cell_type": "code",
      "source": [
        "from torchvision import models\n",
        "\n",
        "model_resnet = models.resnet18(pretrained=False)\n",
        "\n",
        "# change input layer\n",
        "# the default number of input channel in the resnet is 3, but our images are 1 channel. So we have to change 3 to 1.\n",
        "# nn.Conv2d(3, 64, kernel_size=(7, 7), stride=(2, 2), padding=(3, 3), bias=False) <- default\n",
        "# model_resnet.conv1 = nn.Conv2d(1, 64, kernel_size=(7, 7), stride=(2, 2), padding=(3, 3), bias=False)\n",
        "\n",
        "# change fc layer\n",
        "# the number of classes in our dataset is 3. default is 1000.\n",
        "num_ftrs = model_resnet.fc.in_features\n",
        "model_resnet.fc = nn.Linear(num_ftrs, 3)"
      ],
      "metadata": {
        "id": "0j9BKWrz9jKP"
      },
      "execution_count": null,
      "outputs": []
    },
    {
      "cell_type": "code",
      "source": [
        "model = model_resnet.to(device)\n",
        "print(model)"
      ],
      "metadata": {
        "id": "4xkSfDwg9jHF"
      },
      "execution_count": null,
      "outputs": []
    },
    {
      "cell_type": "code",
      "source": [],
      "metadata": {
        "id": "vxoCeVUh9jEe"
      },
      "execution_count": null,
      "outputs": []
    },
    {
      "cell_type": "markdown",
      "source": [
        "### Optimizer"
      ],
      "metadata": {
        "id": "ZUq8YgxoFZ1J"
      }
    },
    {
      "cell_type": "code",
      "source": [
        "optimizer = torch.optim.Adam(model.parameters(), lr=config.learning_rate)"
      ],
      "metadata": {
        "id": "jifKu6st9jB6"
      },
      "execution_count": 37,
      "outputs": []
    },
    {
      "cell_type": "code",
      "source": [],
      "metadata": {
        "id": "2NuSrQvX9ywO"
      },
      "execution_count": 37,
      "outputs": []
    },
    {
      "cell_type": "markdown",
      "source": [
        "### Loss Function"
      ],
      "metadata": {
        "id": "Yb5lRKpCFbAx"
      }
    },
    {
      "cell_type": "code",
      "source": [
        "loss_f = nn.CrossEntropyLoss(reduction='sum')\n",
        "loss_f_batch = nn.CrossEntropyLoss(reduction='none')"
      ],
      "metadata": {
        "id": "zOpuPL0V9yue"
      },
      "execution_count": 38,
      "outputs": []
    },
    {
      "cell_type": "code",
      "source": [],
      "metadata": {
        "id": "dVAIfFl89yqR"
      },
      "execution_count": 38,
      "outputs": []
    },
    {
      "cell_type": "code",
      "source": [
        "##  log: ['gradients', 'parameters', 'all']\n",
        "## log_freq\t: N 배치마다 그레이디언트와 파라미터를 로그\n",
        "\n",
        "wandb.watch(model, loss_f, log=\"all\", log_freq=10)"
      ],
      "metadata": {
        "id": "c8ViU9se9yns"
      },
      "execution_count": 39,
      "outputs": []
    },
    {
      "cell_type": "code",
      "source": [],
      "metadata": {
        "id": "grkW_vnt91Vu"
      },
      "execution_count": 39,
      "outputs": []
    },
    {
      "cell_type": "markdown",
      "source": [
        "### Model Training"
      ],
      "metadata": {
        "id": "E3-m7QiBFcjs"
      }
    },
    {
      "cell_type": "code",
      "source": [
        "tr_losses = []\n",
        "val_losses = []\n",
        "for epoch in range(1, config.epochs):\n",
        "    model.train() ### Train mode로 변경\n",
        "    batch_loss = 0\n",
        "    tqdm_loader = tqdm(tr_dataloader) ## progressing bar\n",
        "    for batch_idx, samples in enumerate(tqdm_loader): ### 다음 batch 가져옴\n",
        "        images, labels = samples\n",
        "        images = images.to(device) ### GPU에 올림\n",
        "        labels = labels.to(device)\n",
        "\n",
        "        logit = model(images) ### forward() 실행 -> feed forward!!\n",
        "\n",
        "        tr_loss = loss_f(logit, labels.squeeze(-1)) ### loss 계산\n",
        "        optimizer.zero_grad() ### 이전에 계산했던 gradient들 초기화 (누적되면 안됨)\n",
        "        tr_loss.backward() ### gradient계산 및 back propagation\n",
        "        optimizer.step() #### update\n",
        "\n",
        "        tr_loss_batch = loss_f_batch(logit, labels.squeeze(-1)) ### batch 구성하는 각 데이터 loss 계산\n",
        "        batch_loss += tr_loss_batch.sum().item()\n",
        "\n",
        "    epoch_loss = batch_loss / len(tr_dataloader)*config.batch_size\n",
        "    tr_losses.append(epoch_loss)\n",
        "\n",
        "\n",
        "    model.eval()\n",
        "    with torch.no_grad():\n",
        "        val_batch_loss = 0\n",
        "        for batch_idx, samples in enumerate(val_dataloader):\n",
        "            val_images, val_labels = samples\n",
        "            val_images = val_images.to(device)\n",
        "            val_labels = val_labels.to(device)\n",
        "\n",
        "            val_labels_pred = model(val_images)\n",
        "\n",
        "            val_loss_batch = loss_f_batch(val_labels_pred, val_labels.squeeze(-1))\n",
        "            val_batch_loss += val_loss_batch.sum().item()\n",
        "\n",
        "        val_epoch_loss = val_batch_loss / len(val_dataloader)*config.batch_size\n",
        "        val_losses.append(val_epoch_loss)\n",
        "\n",
        "\n",
        "    print(f\"Epoch {epoch:04} | train_Loss: {epoch_loss:.6f} | val_Loss: {val_epoch_loss:.6f}\")\n",
        "    wandb.log({\"train_loss\": epoch_loss, \"val_loss\" : val_epoch_loss})"
      ],
      "metadata": {
        "colab": {
          "base_uri": "https://localhost:8080/"
        },
        "id": "ms9l4pSt91Td",
        "outputId": "fbea9623-5d89-4abb-bb69-31694cac9c06"
      },
      "execution_count": 40,
      "outputs": [
        {
          "output_type": "stream",
          "name": "stderr",
          "text": [
            "100%|██████████| 630/630 [00:54<00:00, 11.50it/s]\n"
          ]
        },
        {
          "output_type": "stream",
          "name": "stdout",
          "text": [
            "Epoch 0001 | train_Loss: 66.457274 | val_Loss: 4565.321777\n"
          ]
        },
        {
          "output_type": "stream",
          "name": "stderr",
          "text": [
            "100%|██████████| 630/630 [00:54<00:00, 11.60it/s]\n"
          ]
        },
        {
          "output_type": "stream",
          "name": "stdout",
          "text": [
            "Epoch 0002 | train_Loss: 66.607445 | val_Loss: 4383.711914\n"
          ]
        },
        {
          "output_type": "stream",
          "name": "stderr",
          "text": [
            "100%|██████████| 630/630 [00:52<00:00, 11.98it/s]\n"
          ]
        },
        {
          "output_type": "stream",
          "name": "stdout",
          "text": [
            "Epoch 0003 | train_Loss: 55.162918 | val_Loss: 7003.859863\n"
          ]
        },
        {
          "output_type": "stream",
          "name": "stderr",
          "text": [
            "100%|██████████| 630/630 [00:51<00:00, 12.16it/s]\n"
          ]
        },
        {
          "output_type": "stream",
          "name": "stdout",
          "text": [
            "Epoch 0004 | train_Loss: 26.428685 | val_Loss: 13670.458984\n"
          ]
        }
      ]
    },
    {
      "cell_type": "code",
      "source": [
        "import matplotlib.pyplot as plt\n",
        "fig, loss_ax = plt.subplots()\n",
        "acc_ax = loss_ax.twinx()\n",
        "\n",
        "loss_ax.plot(tr_losses, 'y', label = 'train loss')\n",
        "loss_ax.plot(val_losses, 'r', label = 'val loss')\n",
        "\n",
        "# acc_ax.plot(hist.history['accuracy'], 'b', label = 'train accuracy')\n",
        "# acc_ax.plot(hist.history['val_accuracy'], 'g', label = 'valid accuracy')\n",
        "\n",
        "loss_ax.set_xlabel('epoch')\n",
        "loss_ax.set_ylabel('loss')\n",
        "# acc_ax.set_ylabel('accuracy')\n",
        "\n",
        "loss_ax.legend(loc='upper left')\n",
        "# acc_ax.legend(loc='lower left')\n",
        "\n",
        "plt.show()"
      ],
      "metadata": {
        "colab": {
          "base_uri": "https://localhost:8080/",
          "height": 455
        },
        "id": "MTHwnAz-91Q4",
        "outputId": "cd7478be-c9c8-4c36-fac9-899bc0b14bd0"
      },
      "execution_count": 41,
      "outputs": [
        {
          "output_type": "display_data",
          "data": {
            "text/plain": [
              "<Figure size 640x480 with 2 Axes>"
            ],
            "image/png": "[encoded data removed]"
          },
          "metadata": {}
        }
      ]
    },
    {
      "cell_type": "code",
      "source": [],
      "metadata": {
        "id": "cdqbsyto91OQ"
      },
      "execution_count": 41,
      "outputs": []
    },
    {
      "cell_type": "markdown",
      "source": [
        "# 4. Model Test"
      ],
      "metadata": {
        "id": "b8r9tdKVFhmD"
      }
    },
    {
      "cell_type": "code",
      "source": [
        "from sklearn.metrics import accuracy_score"
      ],
      "metadata": {
        "id": "R5u_vVLO91Lk"
      },
      "execution_count": 42,
      "outputs": []
    },
    {
      "cell_type": "code",
      "source": [
        "model.eval()\n",
        "correct_count = 0\n",
        "with torch.no_grad():\n",
        "    for batch_idx, samples in enumerate(test_dataloader):\n",
        "        x_test, y_test = samples\n",
        "        x_test = x_test.to(device)\n",
        "        y_test = y_test.to(device)\n",
        "\n",
        "        y_test_pred = model(x_test)\n",
        "\n",
        "        pred = torch.argmax(y_test_pred, dim=1)\n",
        "        correct_count += accuracy_score(y_test.cpu(), pred.cpu(), normalize=False) ## normalize : If False, return the number of correctly classified samples. Otherwise, return the fraction of correctly classified samples.\n",
        "\n",
        "print('accuracy on test set : ', correct_count / len(test_dataset))\n"
      ],
      "metadata": {
        "colab": {
          "base_uri": "https://localhost:8080/"
        },
        "id": "InRKUDHP9ylJ",
        "outputId": "4cf3939e-b190-4e37-b0fd-d184a3d100a4"
      },
      "execution_count": 43,
      "outputs": [
        {
          "output_type": "stream",
          "name": "stdout",
          "text": [
            "accuracy on test set :  0.3761904761904762\n"
          ]
        }
      ]
    },
    {
      "cell_type": "code",
      "source": [
        "from sklearn.metrics import confusion_matrix, ConfusionMatrixDisplay, f1_score\n",
        "cm = confusion_matrix(y_test.cpu(), torch.argmax(y_test_pred,1).cpu(), labels=[0,1,2])\n",
        "\n",
        "disp = ConfusionMatrixDisplay(confusion_matrix=cm, display_labels=[0,1,2])\n",
        "disp.plot()\n",
        "\n",
        "print(f1_score(y_test.cpu(), torch.argmax(y_test_pred,1).cpu(), average='macro'))"
      ],
      "metadata": {
        "colab": {
          "base_uri": "https://localhost:8080/",
          "height": 467
        },
        "id": "if18dhB4D1OB",
        "outputId": "4a499b4d-9786-4448-cfb7-bd39e1cbedf1"
      },
      "execution_count": 44,
      "outputs": [
        {
          "output_type": "stream",
          "name": "stdout",
          "text": [
            "0.3252215508622407\n"
          ]
        },
        {
          "output_type": "display_data",
          "data": {
            "text/plain": [
              "<Figure size 640x480 with 2 Axes>"
            ],
            "image/png": "[encoded data removed]"
          },
          "metadata": {}
        }
      ]
    },
    {
      "cell_type": "code",
      "source": [],
      "metadata": {
        "id": "8BS5Xs5WD6MK"
      },
      "execution_count": null,
      "outputs": []
    }
  ]
}